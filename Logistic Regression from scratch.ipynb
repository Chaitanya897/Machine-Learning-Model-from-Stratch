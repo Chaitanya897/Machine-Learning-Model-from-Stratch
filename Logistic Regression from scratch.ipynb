{
 "cells": [
  {
   "cell_type": "code",
   "execution_count": null,
   "outputs": [],
   "source": [
    "#\"I (We) certify that the code and data in this assignment were generated independently,\n",
    "#using only the tools and resources defined in the course and that I (we) did not receive\n",
    "#any external help, coaching or contributions during the production of this work."
   ],
   "metadata": {
    "collapsed": false,
    "pycharm": {
     "name": "#%%\n"
    }
   }
  },
  {
   "cell_type": "code",
   "execution_count": 2,
   "outputs": [],
   "source": [
    "#import tools\n",
    "import pandas as pd\n",
    "import numpy as np\n",
    "import matplotlib.pyplot as plt"
   ],
   "metadata": {
    "collapsed": false,
    "pycharm": {
     "name": "#%%\n"
    }
   }
  },
  {
   "cell_type": "code",
   "execution_count": 5,
   "outputs": [
    {
     "name": "stdout",
     "output_type": "stream",
     "text": [
      "General data information\n",
      "       Sample Number  Culmen Length (mm)  Culmen Depth (mm)  \\\n",
      "count     344.000000          342.000000         342.000000   \n",
      "mean       63.151163           43.921930          17.151170   \n",
      "std        40.430199            5.459584           1.974793   \n",
      "min         1.000000           32.100000          13.100000   \n",
      "25%        29.000000           39.225000          15.600000   \n",
      "50%        58.000000           44.450000          17.300000   \n",
      "75%        95.250000           48.500000          18.700000   \n",
      "max       152.000000           59.600000          21.500000   \n",
      "\n",
      "       Flipper Length (mm)  Body Mass (g)  Delta 15 N (o/oo)  \\\n",
      "count           342.000000     342.000000         330.000000   \n",
      "mean            200.915205    4201.754386           8.733382   \n",
      "std              14.061714     801.954536           0.551770   \n",
      "min             172.000000    2700.000000           7.632200   \n",
      "25%             190.000000    3550.000000           8.299890   \n",
      "50%             197.000000    4050.000000           8.652405   \n",
      "75%             213.000000    4750.000000           9.172123   \n",
      "max             231.000000    6300.000000          10.025440   \n",
      "\n",
      "       Delta 13 C (o/oo)  \n",
      "count         331.000000  \n",
      "mean          -25.686292  \n",
      "std             0.793961  \n",
      "min           -27.018540  \n",
      "25%           -26.320305  \n",
      "50%           -25.833520  \n",
      "75%           -25.062050  \n",
      "max           -23.787670  \n",
      "Shape of data:\n",
      "(344, 17)\n"
     ]
    }
   ],
   "source": [
    "#Upload datasets\n",
    "df_penguins = pd.read_csv(\"datasets/penguins_lter.csv\")\n",
    "\n",
    "\n",
    "#Insert general data analysis\n",
    "print('General data information')\n",
    "print(df_penguins.describe())\n",
    "#shape of data\n",
    "print('Shape of data:')\n",
    "print(df_penguins.shape)"
   ],
   "metadata": {
    "collapsed": false,
    "pycharm": {
     "name": "#%%\n"
    }
   }
  },
  {
   "cell_type": "code",
   "execution_count": 1,
   "metadata": {
    "id": "vlBKvnQczKXs",
    "colab": {
     "base_uri": "https://localhost:8080/"
    },
    "outputId": "017bd629-44d3-4695-803d-7eacbf1aec82"
   },
   "outputs": [
    {
     "ename": "NameError",
     "evalue": "name 'df_penguins' is not defined",
     "output_type": "error",
     "traceback": [
      "\u001B[1;31m---------------------------------------------------------------------------\u001B[0m",
      "\u001B[1;31mNameError\u001B[0m                                 Traceback (most recent call last)",
      "Input \u001B[1;32mIn [1]\u001B[0m, in \u001B[0;36m<module>\u001B[1;34m\u001B[0m\n\u001B[0;32m      1\u001B[0m \u001B[38;5;66;03m# \"species\" column - convert string values into category values\u001B[39;00m\n\u001B[1;32m----> 2\u001B[0m df_penguins[\u001B[38;5;124m\"\u001B[39m\u001B[38;5;124mSpecies\u001B[39m\u001B[38;5;124m\"\u001B[39m]\u001B[38;5;241m=\u001B[39m\u001B[43mdf_penguins\u001B[49m[\u001B[38;5;124m\"\u001B[39m\u001B[38;5;124mSpecies\u001B[39m\u001B[38;5;124m\"\u001B[39m]\u001B[38;5;241m.\u001B[39mastype(\u001B[38;5;124m\"\u001B[39m\u001B[38;5;124mcategory\u001B[39m\u001B[38;5;124m\"\u001B[39m)\n\u001B[0;32m      3\u001B[0m \u001B[38;5;66;03m# \"island\" column - convert string values into category values\u001B[39;00m\n\u001B[0;32m      4\u001B[0m df_penguins[\u001B[38;5;124m\"\u001B[39m\u001B[38;5;124mIsland\u001B[39m\u001B[38;5;124m\"\u001B[39m]\u001B[38;5;241m=\u001B[39mdf_penguins[\u001B[38;5;124m\"\u001B[39m\u001B[38;5;124mIsland\u001B[39m\u001B[38;5;124m\"\u001B[39m]\u001B[38;5;241m.\u001B[39mastype(\u001B[38;5;124m\"\u001B[39m\u001B[38;5;124mcategory\u001B[39m\u001B[38;5;124m\"\u001B[39m)\n",
      "\u001B[1;31mNameError\u001B[0m: name 'df_penguins' is not defined"
     ]
    }
   ],
   "source": [
    "# \"species\" column - convert string values into category values\n",
    "df_penguins[\"Species\"]=df_penguins[\"Species\"].astype(\"category\")\n",
    "# \"island\" column - convert string values into category values\n",
    "df_penguins[\"Island\"]=df_penguins[\"Island\"].astype(\"category\")\n",
    "# \"sex\" column - convert string values into category values\n",
    "df_penguins[\"Sex\"]=df_penguins[\"Sex\"].astype(\"category\")\n",
    "#Remove special characters that are not relevant for string values\n",
    "df_penguins['Sex'] = df_penguins['Sex'].cat.set_categories(['MALE', 'FEMALE'])\n",
    "\n",
    "#Remove all rows with NaN values for 'sex','bill length','bill depth','flipper length', and 'body mass' and reset index naming\n",
    "df_penguins = df_penguins.dropna(subset=['Sex'])\n",
    "df_penguins = df_penguins.dropna(subset=['Culmen Length (mm)'])\n",
    "df_penguins = df_penguins.dropna(subset=['Culmen Depth (mm)'])\n",
    "df_penguins = df_penguins.dropna(subset=['Flipper Length (mm)'])\n",
    "df_penguins = df_penguins.dropna(subset=['Body Mass (g)'])\n",
    "df_penguins = df_penguins.reset_index(drop=True)\n",
    "\n",
    "#Normalize and rescale all numerical metrics between 0 and 1\n",
    "bill_length = df_penguins[\"Culmen Length (mm)\"]\n",
    "min_bill_length = bill_length.min()\n",
    "max_bill_length = bill_length.max()-min_bill_length\n",
    "bill_length_norm = (bill_length-np.ones(len(bill_length))*min_bill_length)/max_bill_length\n",
    "\n",
    "bill_depth = df_penguins[\"Culmen Depth (mm)\"]\n",
    "min_bill_depth = bill_depth.min()\n",
    "max_bill_depth = bill_depth.max()-min_bill_depth\n",
    "bill_depth_norm = (bill_depth-np.ones(len(bill_depth))*min_bill_depth)/max_bill_depth\n",
    "\n",
    "flipper_length = df_penguins[\"Flipper Length (mm)\"]\n",
    "min_flipper_length = flipper_length.min()\n",
    "max_flipper_length = flipper_length.max()-min_flipper_length\n",
    "flipper_length_norm = (flipper_length-np.ones(len(flipper_length))*min_flipper_length)/max_flipper_length\n",
    "\n",
    "body_mass = df_penguins[\"Body Mass (g)\"]\n",
    "min_body_mass = body_mass.min()\n",
    "max_body_mass = body_mass.max()-min_body_mass\n",
    "body_mass_norm = (body_mass-np.ones(len(body_mass))*min_body_mass)/max_body_mass\n",
    "\n",
    "#Use binary classifiers for male/female\n",
    "#Use bill length, bil depth, flipper length, and body mass as X inputs for Y output(sex)\n",
    "X_source = pd.concat([bill_length_norm, bill_depth_norm, flipper_length_norm, body_mass_norm], axis=1)\n",
    "X_source.insert(loc=0, column='ones',value=1) #Insert ones column for X0 in correlation with w0 bias\n",
    "y_source = df_penguins[\"Sex\"].to_frame()\n",
    "cleanup_nums = {\"Sex\":{\"FEMALE\": 0, \"MALE\": 1}}\n",
    "y_source = y_source.replace(cleanup_nums)\n",
    "\n",
    "#Capture training values (80% of data set - training)\n",
    "len_80_percent = round(len(y_source)*80/100)\n",
    "X_train = X_source.head(len_80_percent)\n",
    "y_train = y_source.head(len_80_percent)\n",
    "\n",
    "#Capture testing values (20% of data set - testing)\n",
    "X_test = X_source.tail(len(y_source)-len_80_percent)\n",
    "X_test = X_test.reset_index(drop=True) #reset indexing to start at 0\n",
    "y_test = y_source.tail(len(y_source)-len_80_percent)\n",
    "y_test = y_test.reset_index(drop=True) #reset indexing to start at 0\n",
    "\n",
    "class LogitRegression:\n",
    "  def __init__(self, learning_rate, iteration_qty):\n",
    "    self.learning_rate = learning_rate\n",
    "    self.iteration_qty = iteration_qty\n",
    "\n",
    "  def sigmoid(self, z):\n",
    "  # Define a sigmoid function as\n",
    "    return 1/(1+np.exp(-z))\n",
    "\n",
    "  def cost(self, w_cost, x_cost, y_train_cost,n_cost):\n",
    "  # Loss function for Logistic Regression can be defined as\n",
    "    h = self.predict_val(w_cost, x_cost)\n",
    "    val_cost = (1/n_cost)*((-y_train_cost*np.log(h))-((1-y_train_cost)*np.log(1-h)))\n",
    "    val_cost = val_cost.item()\n",
    "    return val_cost\n",
    "\n",
    "  def predict_val(self, w_pred, x_pred):\n",
    "    dot_prod = 0\n",
    "    for i in range(len(x_pred)):\n",
    "      dot_prod = dot_prod + w_pred[i]*x_pred[i]\n",
    "    dot_prod = dot_prod.item()\n",
    "    return self.sigmoid(dot_prod)\n",
    "\n",
    "  def predict(self, w_predict, x_predict):\n",
    "    val = self.predict_val(w_predict, x_predict)\n",
    "    if val < 0.5:\n",
    "      return 0\n",
    "    else:\n",
    "      return 1\n",
    "\n",
    "  def delta(self, w_delta, x_delta, y_train_delta):\n",
    "    delt = 0\n",
    "    delt = self.predict_val(w_delta, x_delta) - y_train_delta\n",
    "    return delt.item()\n",
    "\n",
    "  def gradient_descent(self, w_grad, x_grad, y_train_grad, n_grad):\n",
    "  # Define current prediction y_hat for logistic regression as \n",
    "    d = self.delta(w_grad, x_grad, y_train_grad)\n",
    "    gd = (x_grad*d)/n_grad\n",
    "    gd = gd.rename(index={\"ones\": \"w0\", \"Culmen Length (mm)\": \"w1\", \"Culmen Depth (mm)\" : \"w2\", \"Flipper Length (mm)\" : \"w3\", \"Body Mass (g)\": \"w4\"})\n",
    "    return gd\n",
    "\n",
    "  def check(self, y_guess, y_true):\n",
    "  #Check if expected/estimated result is correct or not\n",
    "    if y_guess == y_true:\n",
    "      return 1\n",
    "    else: \n",
    "      return 0\n",
    "\n",
    "  # Takes as an input hyperparameters: learning rate and the number of iterations.\n",
    "  def fit(self, X_training, y_training):\n",
    "  #initialized weights\n",
    "#Start with an initial bias of zero. Use random weights between 0 and 1 for everything else\n",
    "    w_initial = {'w0':  0, 'w1':  np.random.uniform(0, 1), 'w2':  np.random.uniform(0, 1), 'w3':  np.random.uniform(0, 1), 'w4':  np.random.uniform(0, 1)}\n",
    "    w = pd.Series(data=w_initial, index=['w0', 'w1', 'w2','w3','w4'])\n",
    "    i = 0\n",
    "    loss = np.zeros(self.iteration_qty)\n",
    "    result = np.zeros(self.iteration_qty)\n",
    "    n = len(y_training) #length of dataset\n",
    "    N = len(X_training.columns) #length of X\n",
    "    while i < self.iteration_qty:\n",
    "      u = np.random.randint(0, n) #choose a random column number from the data set\n",
    "      X_samp = X_training.loc[u,:] #call X sample for the iteration\n",
    "      y_samp = y_training.loc[u,:] #call y sample for the iteration\n",
    "      p = self.predict(w, X_samp) #predicted value\n",
    "      y_samp_bool = np.squeeze(y_samp)\n",
    "      result[i] = self.check(p,y_samp_bool) #check whether the predicted value is correct (0 is incorrect, 1 is correct)\n",
    "      dW = self.gradient_descent(w, X_samp, y_samp,N) #calculate the gradient descent \n",
    "      loss[i] = self.cost(w, X_samp, y_samp,N) #calculate the loss\n",
    "      w = w - dW*self.learning_rate #calculate the updated weights with the gradient descent\n",
    "      i = i+1 \n",
    "    self.w = w\n",
    "    self.dW = dW\n",
    "    self.loss = loss\n",
    "  def test(self, X_testing, y_testing):\n",
    "    i = 0\n",
    "    n = len(y_testing) #length of dataset\n",
    "    N = len(X_testing.columns) #length of X\n",
    "    loss = np.zeros(n)\n",
    "    result = np.zeros(n)\n",
    "    fraction_correct = 0\n",
    "    while i < n:\n",
    "      X_samp = X_testing.loc[i,:] #call X sample for the iteration\n",
    "      y_samp = y_testing.loc[i,:] #call y sample for the iteration\n",
    "      p = self.predict(self.w, X_samp) #predicted value\n",
    "      y_samp_bool = np.squeeze(y_samp)\n",
    "      result[i] = self.check(p,y_samp_bool) #check whether the predicted value is correct (0 is incorrect, 1 is correct)\n",
    "      loss[i] = self.cost(self.w, X_samp, y_samp, N) #calculate the loss\n",
    "      i = i+1 \n",
    "    self.loss_test = loss\n",
    "    self.result = result\n",
    "    fraction_correct = result.sum()/n\n",
    "    self.percent_correct = round(fraction_correct*100,1)\n",
    "\n",
    "#learning rate\n",
    "learning_rate = 1\n",
    "#number of iterations\n",
    "iterations = 1000\n",
    "model = LogitRegression(learning_rate, iterations)\n",
    "model.fit(X_train, y_train)\n",
    "model.test(X_test, y_test)\n",
    "print('Model Accuracy (percent)')\n",
    "print(model.percent_correct)\n",
    "print('Model Weights')\n",
    "print(model.w)"
   ]
  },
  {
   "cell_type": "code",
   "execution_count": 132,
   "metadata": {
    "id": "eKLjk_YGc1KQ",
    "colab": {
     "base_uri": "https://localhost:8080/",
     "height": 295
    },
    "outputId": "261ac311-3860-4af5-c259-9f6780730fd0",
    "pycharm": {
     "name": "#%%\n"
    }
   },
   "outputs": [
    {
     "output_type": "display_data",
     "data": {
      "text/plain": [
       "<Figure size 432x288 with 1 Axes>"
      ],
      "image/png": "[encoded data removed]"
     },
     "metadata": {
      "needs_background": "light"
     }
    }
   ],
   "source": [
    "#Output the loss plot\n",
    "plt.plot(model.loss, '.')\n",
    "plt.ylabel('Loss')\n",
    "plt.xlabel('Iteration')\n",
    "plt.title('Training Loss: Iterations = {}, Learning rate = {}, Accuracy = {}%'.format(iterations,learning_rate,model.percent_correct))\n",
    "plt.show()\n"
   ]
  }
 ],
 "metadata": {
  "colab": {
   "collapsed_sections": [],
   "name": "Assignment_2.ipynb",
   "provenance": []
  },
  "kernelspec": {
   "display_name": "Python 3",
   "name": "python3"
  },
  "language_info": {
   "name": "python"
  }
 },
 "nbformat": 4,
 "nbformat_minor": 0
}