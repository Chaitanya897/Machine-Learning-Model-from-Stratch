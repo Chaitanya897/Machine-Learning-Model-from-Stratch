{
 "cells": [
  {
   "cell_type": "code",
   "execution_count": 1,
   "id": "74ef4fd8-dedc-4ac4-bb36-7fa0e5da8290",
   "metadata": {},
   "outputs": [],
   "source": [
    "#\"I (We) certify that the code and data in this assignment were generated independently,\n",
    "#using only the tools and resources defined in the course and that I (we) did not receive\n",
    "#any external help, coaching or contributions during the production of this work."
   ]
  },
  {
   "cell_type": "code",
   "execution_count": 82,
   "outputs": [],
   "source": [
    "#import tools\n",
    "import pandas as pd\n",
    "import numpy as np\n",
    "import matplotlib.pyplot as plt"
   ],
   "metadata": {
    "collapsed": false,
    "pycharm": {
     "name": "#%%\n"
    }
   }
  },
  {
   "cell_type": "code",
   "execution_count": 83,
   "id": "c088044c-6adb-4cef-9425-db9d53cf655c",
   "metadata": {
    "pycharm": {
     "name": "#%%\n"
    }
   },
   "outputs": [],
   "source": [
    "#drop all NaN values\n",
    "df1 = pd.read_csv(r\"datasets\\winequality-red.csv\")\n",
    "data1 = pd.DataFrame(df1)\n",
    "data1.isnull().sum(axis=0)\n",
    "no_null_df1 = df1.dropna()\n",
    "\n",
    "#Normalizing fixed acidity\n",
    "fixed_acidity_length = df1[\"fixed acidity\"]\n",
    "min_fixed_acidity_length = fixed_acidity_length.min()\n",
    "max_fixed_acidity_length = fixed_acidity_length.max()-min_fixed_acidity_length\n",
    "fixed_acidity_norm = (fixed_acidity_length-np.ones(len(fixed_acidity_length))*min_fixed_acidity_length)/max_fixed_acidity_length\n",
    "\n",
    "#Normalizing residual sugar\n",
    "residual_sugar_length = df1[\"residual sugar\"]\n",
    "min_residual_sugar_length =  residual_sugar_length.min()\n",
    "max_residual_sugar_length =  residual_sugar_length.max()-min_residual_sugar_length\n",
    "residual_sugar_norm = (residual_sugar_length-np.ones(len(residual_sugar_length))*min_residual_sugar_length)/max_residual_sugar_length\n",
    "\n",
    "#Normalizing free sulphur dioxide\n",
    "fsd_length = df1[\"free sulfur dioxide\"]\n",
    "min_fsd_length = fsd_length.min()\n",
    "max_fsd_length = fsd_length.max()-min_fsd_length\n",
    "fsd_norm = (fsd_length-np.ones(len(fsd_length))*min_fsd_length)/max_fsd_length\n",
    "\n",
    "#Normalizing total sulfur dioxide\n",
    "tsd_length = df1[\"total sulfur dioxide\"]\n",
    "min_tsd_length = tsd_length.min()\n",
    "max_tsd_length = tsd_length.max()-min_tsd_length\n",
    "tsd_norm = (tsd_length-np.ones(len(tsd_length))*min_tsd_length)/max_tsd_length\n",
    "\n",
    "#Normalizing pH\n",
    "pH_length = df1[\"pH\"]\n",
    "min_pH_length = pH_length.min()\n",
    "max_pH_length = pH_length.max()-min_pH_length\n",
    "pH_norm = (pH_length-np.ones(len(pH_length))*min_pH_length)/max_pH_length\n",
    "\n",
    "#Normalizing alcohol\n",
    "alcohol_length = df1[\"alcohol\"]\n",
    "min_alcohol_length = alcohol_length.min()\n",
    "max_alcohol_length = alcohol_length.max()-min_alcohol_length\n",
    "alcohol_norm = (alcohol_length-np.ones(len(alcohol_length))*min_alcohol_length)/max_alcohol_length\n",
    "\n",
    "#Normalizing quality\n",
    "quality_length = df1[\"quality\"]\n",
    "min_quality_length = quality_length.min()\n",
    "max_quality_length = quality_length.max()-min_quality_length\n",
    "quality_norm = (quality_length-np.ones(len(quality_length))*min_quality_length)/max_quality_length"
   ]
  },
  {
   "cell_type": "code",
   "execution_count": 84,
   "outputs": [],
   "source": [
    "#Set up training and test data\n",
    "df_winequality = df1.drop(columns = ['fixed acidity', 'residual sugar', 'free sulfur dioxide', 'total sulfur dioxide', 'pH', 'alcohol', 'quality'])\n",
    "df_winequality_final = pd.concat([df_winequality, fixed_acidity_norm, residual_sugar_norm, fsd_norm, tsd_norm, pH_norm, alcohol_norm, quality_norm], axis = 1)\n",
    "X_source1 = df_winequality_final.drop(columns = ['alcohol'])\n",
    "X_source1.insert(loc=0, column='ones',value=1) #Insert ones column for X0 in correlation with w0 bias\n",
    "y_source1 = df_winequality_final[\"alcohol\"].to_frame()\n",
    "len_80_percent_winequality = round(len(y_source1)*80/100)\n",
    "X_train1 = X_source1.head(len_80_percent_winequality)\n",
    "y_train1 = y_source1.head(len_80_percent_winequality)\n",
    "#Capture testing values (20% of data set - testing)\n",
    "X_test1 = X_source1.tail(len(y_source1)-len_80_percent_winequality)\n",
    "X_test1 = X_test1.reset_index(drop=True) #reset indexing to start at 0\n",
    "y_test1 = y_source1.tail(len(y_source1)-len_80_percent_winequality)\n",
    "y_test1 = y_test1.reset_index(drop=True) #reset indexing to start at 0\n",
    "#Converting X training dataset into an array\n",
    "X1 = X_train1.to_numpy()\n",
    "#Converting X training dataset into an array\n",
    "y1 = y_train1.to_numpy()"
   ],
   "metadata": {
    "collapsed": false,
    "pycharm": {
     "name": "#%%\n"
    }
   }
  },
  {
   "cell_type": "code",
   "execution_count": 136,
   "outputs": [],
   "source": [
    "class GradRegression:\n",
    "  def __init__(self, learning_rate, iteration_qty):\n",
    "    self.learning_rate = learning_rate\n",
    "    self.iteration_qty = iteration_qty\n",
    "\n",
    "  def predict_val(self, w_pred, x_pred):\n",
    "    dot_prod = 0\n",
    "    for i in range(len(x_pred)):\n",
    "      dot_prod = dot_prod + w_pred[i]*x_pred[i]\n",
    "    return dot_prod.item()\n",
    "\n",
    "  def delta(self, w_delta, x_delta, y_train_delta):\n",
    "    delt = y_train_delta - self.predict_val(w_delta, x_delta)\n",
    "    return delt.item()\n",
    "\n",
    "  def der(self, w_der, x_der, y_train_der, k):\n",
    "  # Derivative of loss w.r.t. weights\n",
    "    n = len(y_train_der)\n",
    "    l = len(X_train1.columns)\n",
    "    diff = np.zeros(l)\n",
    "    d = 0\n",
    "    for j in range(n):\n",
    "      delt = self.delta(w_der, x_der.iloc[j], y_train_der.iloc[j])\n",
    "      self.loss.iloc[k] = self.loss.iloc[k]+delt\n",
    "      delta = x_der.iloc[j]*delt\n",
    "      diff = diff-delta\n",
    "    self.loss.iloc[k] = abs(self.loss.iloc[k]/n)\n",
    "    return diff*2/n\n",
    "\n",
    "  def fit(self,x_fit,y_train_fit):\n",
    "    w_initial = {'ones':  0, 'volatile acidity':  np.random.uniform(0, 1), 'citric acid':  np.random.uniform(0, 1), 'chlorides':  np.random.uniform(0, 1), 'density':  np.random.uniform(0, 1), 'sulphates':  np.random.uniform(0, 1), 'fixed acidity':  np.random.uniform(0, 1), 'residual sugar':  np.random.uniform(0, 1), 'free sulfur dioxide':  np.random.uniform(0, 1), 'total sulfur dioxide':  np.random.uniform(0, 1), 'pH':  np.random.uniform(0, 1), 'quality':  np.random.uniform(0, 1)}\n",
    "    w = pd.Series(data=w_initial, index=['ones', 'volatile acidity', 'citric acid','chlorides','density','sulphates', 'fixed acidity', 'residual sugar','free sulfur dioxide','total sulfur dioxide','pH','quality'])\n",
    "    self.loss = pd.DataFrame(np.zeros(self.iteration_qty), columns = ['loss'])\n",
    "    for k in range(self.iteration_qty):\n",
    "      der = self.der(w, x_fit, y_train_fit, k)\n",
    "      w = w - self.learning_rate*der#update weight\n",
    "    self.w = w\n",
    "    return w\n",
    "  # Takes as an input hyperparameters: learning rate and the number of iterations."
   ],
   "metadata": {
    "collapsed": false,
    "pycharm": {
     "name": "#%%\n"
    }
   }
  },
  {
   "cell_type": "code",
   "execution_count": 139,
   "outputs": [
    {
     "data": {
      "text/plain": "ones                   -0.561052\nvolatile acidity        0.429944\ncitric acid             0.314394\nchlorides               0.273530\ndensity                 0.076994\nsulphates              -0.150799\nfixed acidity           0.805846\nresidual sugar          0.326065\nfree sulfur dioxide     0.728920\ntotal sulfur dioxide    0.019957\npH                      0.299420\nquality                 0.068562\ndtype: float64"
     },
     "execution_count": 139,
     "metadata": {},
     "output_type": "execute_result"
    }
   ],
   "source": [
    "learning_rate = 1e-2\n",
    "iterations = 100\n",
    "model = GradRegression(learning_rate,iterations)\n",
    "model.fit(X_test1,y_test1)"
   ],
   "metadata": {
    "collapsed": false,
    "pycharm": {
     "name": "#%%\n"
    }
   }
  },
  {
   "cell_type": "code",
   "execution_count": 140,
   "outputs": [
    {
     "data": {
      "text/plain": "<Figure size 432x288 with 1 Axes>",
      "image/png": "[encoded data removed]"
     },
     "metadata": {
      "needs_background": "light"
     },
     "output_type": "display_data"
    }
   ],
   "source": [
    "plt.plot(model.loss)\n",
    "plt.ylabel('Loss')\n",
    "plt.xlabel('Iteration')\n",
    "plt.title('Training Loss: Iterations = {}, Learning rate = {}'.format(iterations,learning_rate))\n",
    "plt.show()"
   ],
   "metadata": {
    "collapsed": false,
    "pycharm": {
     "name": "#%%\n"
    }
   }
  },
  {
   "cell_type": "code",
   "execution_count": null,
   "outputs": [],
   "source": [],
   "metadata": {
    "collapsed": false,
    "pycharm": {
     "name": "#%%\n"
    }
   }
  }
 ],
 "metadata": {
  "kernelspec": {
   "display_name": "Python 3",
   "language": "python",
   "name": "python3"
  },
  "language_info": {
   "codemirror_mode": {
    "name": "ipython",
    "version": 3
   },
   "file_extension": ".py",
   "mimetype": "text/x-python",
   "name": "python",
   "nbconvert_exporter": "python",
   "pygments_lexer": "ipython3",
   "version": "3.8.8"
  }
 },
 "nbformat": 4,
 "nbformat_minor": 5
}